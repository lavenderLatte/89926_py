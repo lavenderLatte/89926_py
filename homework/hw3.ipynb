{
 "cells": [
  {
   "cell_type": "markdown",
   "metadata": {},
   "source": [
    "\n",
    "# CIS024C - Fall 2017 - Thursday 5:30-9:25pm \n",
    "\n",
    "## Homework 3\n",
    "\n",
    "Homework 3 covers exercises in String Manipulation. \n",
    "\n",
    "For a list of features supported in the string module, please refer to this URL https://docs.python.org/2/library/string.html\n",
    "\n",
    "You will need to download this notebook and use this as a starting point for your homework. You will just need to fill in the content of each code-block (cell) and execute. Once you have completed all the exercises, you will need to save and upload this to your github repository under a folder called hw3.\n",
    "\n",
    "Note also the exercises build on top of one another so you might be able to do the next exercise if you have not completed the previous exercise.\n",
    "\n",
    "Post any questions you have on our Slack at **cis-024c1.slack.com**\n",
    "\n",
    "<h3><font color='red'>\n",
    "ALL THE WORK THAT WE DID IN CLASS DURING WEEK 3 IS NOW IN GITHUB AT THE BELOW LINK\n",
    "</font></h3>\n",
    "\n",
    "https://github.com/cis024c/fall2017classwork/blob/master/week3/week3_classwork.ipynb\n",
    "\n",
    "** Slides ** for Week 3 can be found at https://docs.google.com/presentation/d/16z1-Ln71MiXMRfgnZJB60mnXWnwCiUn0gHURe9KMMWg/edit?usp=sharing\n",
    "\n",
    "\n",
    "**Please refer back to hw1 and slack for instructions on how to setup your computer for developing using Python.**"
   ]
  },
  {
   "cell_type": "markdown",
   "metadata": {},
   "source": [
    "### Helpful Jupyter Commands\n",
    "\n",
    "Below are some useful commands to know when using Jupyter\n",
    "\n",
    "1. You can add a new cell by clicking on the \"+\" icon on top.\n",
    "2. You can delete a cell by selecting that cell and clicking on the \"scissors\" icon on top.\n",
    "3. You can execute a cell by either pressing shift+enter or selecting the \"play\" button on top.\n",
    "4. You can create a new file in Jupyter via the File menu->New Notebook option. Make sure to select Python 2 when creating your notebook.\n",
    "5. Also, for your code blocks make sure that Code is selected instead of another option like Markdown.\n",
    "6. Use the Enter key to go to the next line in a cell to enter the next statement.\n",
    "7. You can clear results by clicking on the Cell menu item and selecting Current Output->Clear or All Output->Clear depending on whether you are trying to just clear the output for one cell or for all cells.\n",
    "8. In case your program has crashed for some reason (infinite loop, for example), you can restart your Python session by select Kernel in the menu and selecting Restart.\n"
   ]
  },
  {
   "cell_type": "markdown",
   "metadata": {},
   "source": [
    "#### Check Python Version"
   ]
  },
  {
   "cell_type": "code",
   "execution_count": 1,
   "metadata": {
    "collapsed": false
   },
   "outputs": [
    {
     "name": "stdout",
     "output_type": "stream",
     "text": [
      "Python 3.6.0 :: Anaconda custom (x86_64)\r\n"
     ]
    }
   ],
   "source": [
    "!python --version"
   ]
  },
  {
   "cell_type": "markdown",
   "metadata": {},
   "source": [
    "#### Sample Exercises with conditionals and repetitions\n",
    "\n",
    "Refer to Week 2 classwork 2 for sample exercises - https://github.com/cis024c/fall2017classwork/blob/master/week2/week2.ipynb"
   ]
  },
  {
   "cell_type": "markdown",
   "metadata": {},
   "source": [
    "#### Exercise 1 -  Using logical operators - and, or and not\n",
    "\n",
    "Get the ages of three persons Harry, Sally and Mary from the user. Check the below conditions and display the results\n",
    "\n",
    "1. If Harry and Sally are both less than 20 years old, display the message saying \"Harry and Sally are less than 20 years old\"\n",
    "2. If either Sally or Mary is older than 30, then display the message saying \"Either Sally or Mary is older than 30\"\n",
    "\n",
    "Remember that to do this you will need to use different variables to store the respective ages and then evaluate those ages using the if statement and logical operators."
   ]
  },
  {
   "cell_type": "code",
   "execution_count": 13,
   "metadata": {
    "collapsed": false
   },
   "outputs": [
    {
     "name": "stdout",
     "output_type": "stream",
     "text": [
      "Harry's age: 15\n",
      "Sally's age: 15\n",
      "Mary's age: 33\n",
      "Harry and Sally are less than 20 years old\n",
      "Either Sally or Mary is older than 30\n"
     ]
    }
   ],
   "source": [
    "### YOUR CODE GOES \n",
    "\n",
    "harry = int(raw_input(\"Harry's age: \"))\n",
    "sally = int(raw_input(\"Sally's age: \"))\n",
    "mary = int(raw_input(\"Mary's age: \"))\n",
    "\n",
    "if harry < 20 and sally < 20:\n",
    "    print \"Harry and Sally are less than 20 years old\"\n",
    "    \n",
    "if sally > 30 or mary > 30:\n",
    "    print \"Either Sally or Mary is older than 30\"\n",
    "\n",
    "### END CODE"
   ]
  },
  {
   "cell_type": "markdown",
   "metadata": {},
   "source": [
    "#### Exercise 2 - Find the length of a given string\n",
    "\n",
    "Ask the user to enter their first name. Compute the number of characters in the first name and print the result. \n",
    "\n",
    "Note that you will need to use the ** len ** function to obtain the number of characters in the string."
   ]
  },
  {
   "cell_type": "code",
   "execution_count": 15,
   "metadata": {
    "collapsed": false
   },
   "outputs": [
    {
     "name": "stdout",
     "output_type": "stream",
     "text": [
      "your first name? hana\n",
      "4\n"
     ]
    }
   ],
   "source": [
    "### YOUR CODE GOES BELOW\n",
    "\n",
    "first_name = raw_input(\"your first name? \")\n",
    "print len(first_name)\n",
    "\n",
    "### END CODE"
   ]
  },
  {
   "cell_type": "markdown",
   "metadata": {},
   "source": [
    "#### Exercise 3 - Reversing a String\n",
    "\n",
    "Ask the user to enter the name of their favorite movie. Reverse the name of the movie and print it out."
   ]
  },
  {
   "cell_type": "code",
   "execution_count": 16,
   "metadata": {
    "collapsed": false
   },
   "outputs": [
    {
     "name": "stdout",
     "output_type": "stream",
     "text": [
      "what's your favorite movie? okja\n",
      "ajko\n"
     ]
    }
   ],
   "source": [
    "### YOUR CODE GOES BELOW\n",
    "\n",
    "fav_movie = raw_input(\"what's your favorite movie? \")\n",
    "print fav_movie[::-1]\n",
    "\n",
    "### END CODE"
   ]
  },
  {
   "cell_type": "markdown",
   "metadata": {},
   "source": [
    "#### Exercise 4 - Converting an input string to lower case and looking for a match\n",
    "\n",
    "Ask the user to enter a **line of text** and a **search string**. Convert the line of text that the user entered to lower case. Search the resulting text for the search string. Print \"Search String Found\" if the search string was found, otherwise, print \"Search String not found\"\n",
    "\n",
    "For example, the user could enter \"Jack and Jill went up the Hill\" and the search string \"jill\". You first need to convert the input string to lower case like so - \"jack and jill went up the hill\". \n",
    "\n",
    "Next you will need to look for the search string in the input string. You can use the \"if searchString in text\" form of query to determine if the text contains the search string. See week 3 classowork for an example"
   ]
  },
  {
   "cell_type": "code",
   "execution_count": 18,
   "metadata": {
    "collapsed": false
   },
   "outputs": [
    {
     "name": "stdout",
     "output_type": "stream",
     "text": [
      "throw me a line: Jack and Jill went up the Hill\n",
      "search string? jill\n",
      "Search String Found\n"
     ]
    }
   ],
   "source": [
    "### YOUR CODE GOES BELOW\n",
    "\n",
    "text = raw_input(\"throw me a line: \")\n",
    "search_str = raw_input(\"search string? \")\n",
    "\n",
    "text_lower = text.lower()\n",
    "if search_str in text_lower:\n",
    "    print \"Search String Found\"\n",
    "else:\n",
    "    print \"Search String not found\"\n",
    "\n",
    "### END CODE"
   ]
  },
  {
   "cell_type": "markdown",
   "metadata": {},
   "source": [
    "#### Exercise 5 - Parsing a comma separated set of values\n",
    "\n",
    "Ask the user to type in a grocery list. Ensure that each item in the grocery list is separated by a comma. Use the **split** command to extract each token (item) in the grocery list. Print the last item in the list.\n",
    "\n",
    "For example, if the user enters \"milk,bananas,sugar,eggs,cheese\", you will need to read this into a variable, parse the contents using the **split** command and print \"cheese\""
   ]
  },
  {
   "cell_type": "code",
   "execution_count": 21,
   "metadata": {
    "collapsed": false
   },
   "outputs": [
    {
     "name": "stdout",
     "output_type": "stream",
     "text": [
      "what do you need to buy(make sure to separete them by comma)? milk,bananas,sugar,eggs,cheese\n",
      "cheese\n"
     ]
    }
   ],
   "source": [
    "### YOUR CODE GOES BELOW\n",
    "\n",
    "grocery = raw_input(\"what do you need to buy(make sure to separete them by comma)? \")\n",
    "\n",
    "grocery_lst = grocery.split(\",\")\n",
    "print grocery_lst[-1]\n",
    "\n",
    "### END CODE"
   ]
  },
  {
   "cell_type": "markdown",
   "metadata": {},
   "source": [
    "## OPTIONAL EXERCISES\n",
    "\n",
    "Below is a set of optional exercises. These will not be graded but the solutions will be posted. I would strongly encourage you to try these out if you are done with the mandatory homework exercises to improve your understanding of python."
   ]
  },
  {
   "cell_type": "markdown",
   "metadata": {},
   "source": [
    "#### Exercise 6\n",
    "\n",
    "Ask the user to type in a grocery list and a search item. Ensure that each item in the grocery list is separated by a comma and an arbitrary number of spaces. Use the **split** command to search for the search item in this list. \n",
    "\n",
    "For example, let us say that the user enters \"\"milk ,  bananas,  sugar,  eggs,  cheese  \" (notice the arbitrary spaces between items) and the search term is \"eggs\". You will need to look for \"eggs\" in the grocery list and if found, print the message \"Item found\", otherwise, print \"Item not found\""
   ]
  },
  {
   "cell_type": "code",
   "execution_count": 28,
   "metadata": {
    "collapsed": false
   },
   "outputs": [
    {
     "name": "stdout",
     "output_type": "stream",
     "text": [
      "what do you need to buy(make sure to separete them by comma and some spaces)?milk , bananas, sugar, eggs, cheese \n",
      "what are you looking for?eggs\n",
      "['milk ', ' bananas', ' sugar', ' eggs', ' cheese ']\n",
      "['milk', 'bananas', 'sugar', 'eggs', 'cheese']\n",
      "Item found\n"
     ]
    }
   ],
   "source": [
    "### YOUR CODE GOES BELOW\n",
    "\n",
    "grocery = raw_input(\"what do you need to buy(make sure to separete them by comma and some spaces)?\")\n",
    "search_item = raw_input(\"what are you looking for?\")\n",
    "\n",
    "# str -> lst\n",
    "grocery_lst = grocery.split(\",\")\n",
    "# print grocery_lst\n",
    "\n",
    "# removing white spaces O(N)\n",
    "grocery_lst_wospace = []\n",
    "\n",
    "for g in grocery_lst:\n",
    "    grocery_lst_wospace.append(g.strip())\n",
    "# print grocery_lst_wospace\n",
    "\n",
    "if search_item in grocery_lst_wospace:\n",
    "    print \"Item found\"\n",
    "else:\n",
    "    print \"Item not found\"\n",
    "\n",
    "### END CODE"
   ]
  },
  {
   "cell_type": "markdown",
   "metadata": {},
   "source": [
    "#### Exercise 7\n",
    "\n",
    "Write a python program that takes in a list of words from the user and prints the shortest word in the list. If two words are equal short, just pick the first one that you see.\n"
   ]
  },
  {
   "cell_type": "code",
   "execution_count": 35,
   "metadata": {
    "collapsed": false
   },
   "outputs": [
    {
     "name": "stdout",
     "output_type": "stream",
     "text": [
      "words: milk,bananas,sugar,eggs,tea,cheese,jam\n",
      "tea\n"
     ]
    }
   ],
   "source": [
    "### YOUR CODE GOES BELOW\n",
    "\n",
    "words = raw_input(\"words: \")\n",
    "words_lst = words.split(\",\")\n",
    "\n",
    "# searching for the shortest word\n",
    "shortest_len = words_lst[0]\n",
    "shortest_word = ''\n",
    "\n",
    "for w in words_lst: # O(N)\n",
    "    if len(w) < shortest_len:\n",
    "        shortest_len = len(w)\n",
    "        shortest_word = w\n",
    "\n",
    "print shortest_word     \n",
    "      \n",
    "### END CODE"
   ]
  },
  {
   "cell_type": "markdown",
   "metadata": {},
   "source": [
    "#### Exercise 8\n",
    "\n",
    "Accept a line of text from the user with some repeating words. Ask the user to enter a search term (one of the repeating words). Count the number of times the search term repeats in the text.\n",
    "\n",
    "For example, if the sentence is - \"She sells sea shells on the sea shore\" and the search term is \"sea\", then the program should print the result 2, indicating that two occurrences of the word \"sea\" were found in the text\n"
   ]
  },
  {
   "cell_type": "code",
   "execution_count": 48,
   "metadata": {
    "collapsed": false
   },
   "outputs": [
    {
     "name": "stdout",
     "output_type": "stream",
     "text": [
      "a line of text with some repeating words: She sells sea shells on the sea shore\n",
      "search term: sea\n",
      "['She', 'sells', 'sea', 'shells', 'on', 'the', 'sea', 'shore']\n",
      "2\n"
     ]
    }
   ],
   "source": [
    "### YOUR CODE GOES BELOW\n",
    "\n",
    "text = raw_input(\"a line of text with some repeating words: \")\n",
    "search_term = raw_input(\"search term: \")\n",
    "\n",
    "spl = text.split()\n",
    "print spl\n",
    "\n",
    "cnt = 0\n",
    "\n",
    "for s in spl:\n",
    "    if s == search_term:\n",
    "        cnt += 1\n",
    "    \n",
    "print cnt\n",
    "\n",
    "### END CODE"
   ]
  },
  {
   "cell_type": "markdown",
   "metadata": {},
   "source": [
    "#### Exercise 9\n",
    "\n",
    "Write a python program to get text from the user. Create a new text from the original text with the word \" stranger \" inserted in the middle of the text. Print the resulting new text."
   ]
  },
  {
   "cell_type": "code",
   "execution_count": 60,
   "metadata": {
    "collapsed": false
   },
   "outputs": [
    {
     "name": "stdout",
     "output_type": "stream",
     "text": [
      "some text: Create a new text from the original text\n",
      "Create a new text frstrangerom the original text\n"
     ]
    }
   ],
   "source": [
    "### YOUR CODE GOES BELOW\n",
    "\n",
    "original_text = raw_input(\"some text: \")\n",
    "\n",
    "altered_text = original_text[:len(original_text)/2] + \"stranger\" + original_text[len(original_text)/2:]\n",
    "print altered_text\n",
    "\n",
    "### END CODE"
   ]
  },
  {
   "cell_type": "markdown",
   "metadata": {},
   "source": [
    "#### Exercise 10\n",
    "\n",
    "Write a python program to get a line of text from the user. Sort each word in the text alphabetically and print it out. \n",
    "\n",
    "For example, if the user enters \"Jack and Jill went up the hill\", the result should be \"and Jack Jill hill the up went\"\n"
   ]
  },
  {
   "cell_type": "code",
   "execution_count": 84,
   "metadata": {
    "collapsed": false
   },
   "outputs": [
    {
     "name": "stdout",
     "output_type": "stream",
     "text": [
      "some text: Jack and Jill went up the hill\n",
      "('text_lst: ', ['Jack', 'and', 'Jill', 'went', 'up', 'the', 'hill'])\n",
      "('sorted_lst: ', ['and', 'hill', 'Jack', 'Jill', 'the', 'up', 'went'])\n",
      "('sorted_text: ', 'and hill Jack Jill the up went')\n"
     ]
    }
   ],
   "source": [
    "### YOUR CODE GOES BELOW\n",
    "\n",
    "text = raw_input(\"some text: \")\n",
    "# converted = text.lower()\n",
    "# print(converted)\n",
    "\n",
    "# converted_lst = converted.split(\" \")\n",
    "text_lst = text.split(\" \")\n",
    "print(\"text_lst: \", text_lst)\n",
    "\n",
    "sorted_lst = sorted(text_lst, key=str.lower)\n",
    "print (\"sorted_lst: \", sorted_lst)\n",
    "\n",
    "sorted_text = ' '.join(sorted_lst)\n",
    "print (\"sorted_text: \", sorted_text)\n",
    "\n",
    "### END CODE"
   ]
  }
 ],
 "metadata": {
  "kernelspec": {
   "display_name": "Python 2",
   "language": "python",
   "name": "python2"
  },
  "language_info": {
   "codemirror_mode": {
    "name": "ipython",
    "version": 2
   },
   "file_extension": ".py",
   "mimetype": "text/x-python",
   "name": "python",
   "nbconvert_exporter": "python",
   "pygments_lexer": "ipython2",
   "version": "2.7.11"
  }
 },
 "nbformat": 4,
 "nbformat_minor": 2
}
