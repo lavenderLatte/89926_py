{
 "cells": [
  {
   "cell_type": "markdown",
   "metadata": {},
   "source": [
    "\n",
    "# CIS024C - Fall 2017 - Thursday 5:30-9:25pm \n",
    "\n",
    "## Homework 10\n",
    "\n",
    "Homework 10 covers object oriented programming in Python\n",
    "\n",
    "The below sites have some interesting and useful information on working with files\n",
    "\n",
    "https://drive.google.com/open?id=1OrcpXEmhvgcJxSlchIBsvmXST0lG_uKx\n",
    "http://www.tutorialspoint.com/python/python_classes_objects.htm\n",
    "\n",
    "You will need to download this notebook and use this as a starting point for your homework. You will just need to fill in the content of each code-block (cell) and execute. Once you have completed all the exercises, you will need to save and upload this to your github repository under a folder called hw10.\n",
    "\n",
    "Note also the exercises build on top of one another so you might be able to do the next exercise if you have not completed the previous exercise.\n",
    "\n",
    "Post any questions you have on our Slack at **cis-024c1.slack.com**\n",
    "\n",
    "** Slides ** for Week 10 can be found at \n",
    "\n",
    "https://docs.google.com/presentation/d/1AigvCKV1yb3PrrcT5xt3IqyAwGpv6IKMNWYUiQ2Oy6k/edit?usp=sharing\n",
    "\n",
    "**Please refer back to hw1 and slack for instructions on how to setup your computer for developing using Python.**"
   ]
  },
  {
   "cell_type": "markdown",
   "metadata": {},
   "source": [
    "### Helpful Jupyter Commands\n",
    "\n",
    "Below are some useful commands to know when using Jupyter\n",
    "\n",
    "1. You can add a new cell by clicking on the \"+\" icon on top.\n",
    "2. You can delete a cell by selecting that cell and clicking on the \"scissors\" icon on top.\n",
    "3. You can execute a cell by either pressing shift+enter or selecting the \"play\" button on top.\n",
    "4. You can create a new file in Jupyter via the File menu->New Notebook option. Make sure to select Python 2 when creating your notebook.\n",
    "5. Also, for your code blocks make sure that Code is selected instead of another option like Markdown.\n",
    "6. Use the Enter key to go to the next line in a cell to enter the next statement.\n",
    "7. You can clear results by clicking on the Cell menu item and selecting Current Output->Clear or All Output->Clear depending on whether you are trying to just clear the output for one cell or for all cells.\n",
    "8. In case your program has crashed for some reason (infinite loop, for example), you can restart your Python session by select Kernel in the menu and selecting Restart.\n"
   ]
  },
  {
   "cell_type": "markdown",
   "metadata": {},
   "source": [
    "#### Check Python Version"
   ]
  },
  {
   "cell_type": "code",
   "execution_count": 1,
   "metadata": {
    "collapsed": false
   },
   "outputs": [
    {
     "name": "stdout",
     "output_type": "stream",
     "text": [
      "Python 3.6.0 :: Anaconda custom (x86_64)\r\n"
     ]
    }
   ],
   "source": [
    "!python --version"
   ]
  },
  {
   "cell_type": "markdown",
   "metadata": {},
   "source": [
    "#### Sample Exercises with Exception Handling\n",
    "\n",
    "Week 10 Class Work can be found here\n",
    "\n",
    "https://github.com/cis024c/fall2017classwork/blob/master/week10/week10_classwork.ipynb"
   ]
  },
  {
   "cell_type": "markdown",
   "metadata": {},
   "source": [
    "**Exercise 1 - Testing your knowledge of object oriented programming concepts **\n",
    "\n",
    "Answer the below questions\n",
    "\n",
    "1. Why do we need classes?\n",
    "2. What is encapsulation?"
   ]
  },
  {
   "cell_type": "markdown",
   "metadata": {},
   "source": [
    "_Answer_\n",
    "\n",
    "1-1. One reason is for code reusability. By defining a class, we can reuse the class inside of other class without rewriting the same code again(composition). Or, when multiple classes shared the similar properties and behaviors, we can define a base class(superclass) and create subclasses that has only subclass specific things(inheritance). <br>\n",
    "    The other reason is OOP increases the modularity and decrease the complexity of code. Especially, when we work with many people as a team to build something, we can code each piece of things in parallel. Since each class should be \"stand-alone\", even if soemebody else's code changed, it doesn't affect my part of class and makes code maintenance easy.  \n",
    "\n",
    "1-2. It's about hiding data or methods. If these properties are public, they are accessible(i.e. get value, set value) from outside of the class - weak encapsulation. Whereas, the properties are private, they are only accessible from within the class. When data properties are private, we usually define Setter and Getter functions to access to them."
   ]
  },
  {
   "cell_type": "markdown",
   "metadata": {},
   "source": [
    "** Exercise 2 - Class creation **\n",
    "\n",
    "Create a Python class named **Employee** with the following attributes and methods\n",
    "\n",
    "Data members\n",
    "```\n",
    "1. employeeName  - type string\n",
    "2. employeeAge  - type int\n",
    "3. employeeSalary - type float\n",
    "```\n",
    "\n",
    "Methods:\n",
    "```\n",
    "1. getEmployee - returns employee name\n",
    "2. getEmployeeAge - gets the employee age\n",
    "3. getEmployeeSalary - returns the employee salary\n",
    "4. __init__ - initialize method accepts the name, age and salary of the employee\n",
    "```\n",
    "\n",
    "Create an object of type Employee and initialize with arbitrary values. Invoke the get methods and display the result."
   ]
  },
  {
   "cell_type": "code",
   "execution_count": 45,
   "metadata": {
    "collapsed": false
   },
   "outputs": [],
   "source": [
    "### YOUR CODE GOES BELOW\n",
    "\n",
    "## Employee-class\n",
    "class Employee(object):\n",
    "    ## Data Attributes Initialization\n",
    "    def __init__(self, name, age, salary):\n",
    "        self.employeeName = name\n",
    "        self.employeeAge = age\n",
    "        self.employeeSalary = salary\n",
    "\n",
    "    ## Getters \n",
    "    def getEmployeeName(self):\n",
    "        return self.employeeName\n",
    "    \n",
    "    def getEmployeeAge(self):\n",
    "        return self.employeeAge \n",
    "    \n",
    "    def getEmployeeSalary(self):\n",
    "        return self.employeeSalary     \n",
    "\n",
    "### END CODE"
   ]
  },
  {
   "cell_type": "code",
   "execution_count": 46,
   "metadata": {
    "collapsed": false
   },
   "outputs": [
    {
     "name": "stdout",
     "output_type": "stream",
     "text": [
      "name: Mimi\n",
      "age: 33\n",
      "salary: 89000.0\n",
      "(Direct access) name: Mimi\n"
     ]
    }
   ],
   "source": [
    "## Class object\n",
    "e = Employee(\"Mimi\", 33, 89000.0)\n",
    "\n",
    "print \"name:\", e.getEmployeeName()\n",
    "print \"age:\", e.getEmployeeAge()\n",
    "print \"salary:\", e.getEmployeeSalary()\n",
    "\n",
    "## Data attribute is not private\n",
    "print \"(Direct access) name:\", e.employeeName "
   ]
  },
  {
   "cell_type": "markdown",
   "metadata": {},
   "source": [
    "#### Exercise 3 - Private members\n",
    "\n",
    "In the above **Employee** class make the employeeName, employeeAge and employeeSalary private so that their access is restricted to only within the class."
   ]
  },
  {
   "cell_type": "code",
   "execution_count": 47,
   "metadata": {
    "collapsed": false
   },
   "outputs": [],
   "source": [
    "### YOUR CODE GOES BELOW\n",
    "\n",
    "## Employee-class\n",
    "class Employee(object):\n",
    "    ## Data Attributes Initialization\n",
    "    def __init__(self, name, age, salary):\n",
    "        self.__employeeName = name\n",
    "        self.__employeeAge = age\n",
    "        self.__employeeSalary = salary\n",
    "\n",
    "    ## Getters \n",
    "    def getEmployeeName(self):\n",
    "        return self.__employeeName\n",
    "    \n",
    "    def getEmployeeAge(self):\n",
    "        return self.__employeeAge \n",
    "    \n",
    "    def getEmployeeSalary(self):\n",
    "        return self.__employeeSalary\n",
    "\n",
    "### END CODE"
   ]
  },
  {
   "cell_type": "code",
   "execution_count": 48,
   "metadata": {
    "collapsed": false
   },
   "outputs": [
    {
     "name": "stdout",
     "output_type": "stream",
     "text": [
      "(Using Getter) name: Mimi\n",
      "(Direct access)name: Mimi\n",
      "(Direct access)name:"
     ]
    },
    {
     "ename": "AttributeError",
     "evalue": "'Employee' object has no attribute '__employeeName'",
     "output_type": "error",
     "traceback": [
      "\u001b[0;31m---------------------------------------------------------------------------\u001b[0m",
      "\u001b[0;31mAttributeError\u001b[0m                            Traceback (most recent call last)",
      "\u001b[0;32m<ipython-input-48-81b0997271d8>\u001b[0m in \u001b[0;36m<module>\u001b[0;34m()\u001b[0m\n\u001b[1;32m      4\u001b[0m \u001b[0;32mprint\u001b[0m \u001b[0;34m\"(Using Getter) name:\"\u001b[0m\u001b[0;34m,\u001b[0m \u001b[0me\u001b[0m\u001b[0;34m.\u001b[0m\u001b[0mgetEmployeeName\u001b[0m\u001b[0;34m(\u001b[0m\u001b[0;34m)\u001b[0m\u001b[0;34m\u001b[0m\u001b[0m\n\u001b[1;32m      5\u001b[0m \u001b[0;32mprint\u001b[0m \u001b[0;34m\"(Direct access)name:\"\u001b[0m\u001b[0;34m,\u001b[0m \u001b[0me\u001b[0m\u001b[0;34m.\u001b[0m\u001b[0m_Employee__employeeName\u001b[0m\u001b[0;34m\u001b[0m\u001b[0m\n\u001b[0;32m----> 6\u001b[0;31m \u001b[0;32mprint\u001b[0m \u001b[0;34m\"(Direct access)name:\"\u001b[0m\u001b[0;34m,\u001b[0m \u001b[0me\u001b[0m\u001b[0;34m.\u001b[0m\u001b[0m__employeeName\u001b[0m\u001b[0;34m\u001b[0m\u001b[0m\n\u001b[0m",
      "\u001b[0;31mAttributeError\u001b[0m: 'Employee' object has no attribute '__employeeName'"
     ]
    }
   ],
   "source": [
    "## Class object\n",
    "e = Employee(\"Mimi\", 33, 89000.0)\n",
    "\n",
    "print \"(Using Getter) name:\", e.getEmployeeName()\n",
    "print \"(Direct access)name:\", e._Employee__employeeName\n",
    "print \"(Direct access)name:\", e.__employeeName"
   ]
  },
  {
   "cell_type": "markdown",
   "metadata": {},
   "source": [
    "#### Exercise 4 - Adding setters and working with a list of Employees\n",
    "\n",
    "In the **Employee** class add the following methods\n",
    "\n",
    "```\n",
    "1. setEmployeeAge - accepts age and sets it in the object\n",
    "2. setEmployeeName - accepts employee name and sets it in the object\n",
    "3. setEmployeeSalary - accepts employee salary and sets it i nthe object\n",
    "```\n",
    "\n",
    "Create a list of employees called employeeList. Initialize the list with three objects of type Employee. Initialize the object with the values \"None\" for employeeName, 0 for employeeAge and 0 for employeeSalary.\n",
    "\n",
    "Loop  through each employee in the employeeList. Each time, request the user to enter the name, age and salary of a different employee. Use the set methods to set the name, age and salary for each employee in the employeeList.\n",
    "\n",
    "Loop through each employee in the employeeList. Display the name, age and salary of each employee."
   ]
  },
  {
   "cell_type": "code",
   "execution_count": 88,
   "metadata": {
    "collapsed": false
   },
   "outputs": [],
   "source": [
    "### YOUR CODE GOES BELOW\n",
    "\n",
    "# Employee-class\n",
    "class Employee(object):\n",
    "    ## Data Attributes Initialization\n",
    "    def __init__(self, name, age, salary):\n",
    "        self.__employeeName = name\n",
    "        self.__employeeAge = age\n",
    "        self.__employeeSalary = salary\n",
    "        \n",
    "    ## Setters\n",
    "    def setEmployeeAge(self, age):\n",
    "        self.__employeeAge = age\n",
    "        \n",
    "    def setEmployeeName(self, new_name):\n",
    "        self.__employeeName = new_name\n",
    "    \n",
    "    def setEmployeeSalary(self, salary):\n",
    "        self.__employeeSalary = salary\n",
    "\n",
    "    ## Getters \n",
    "    def getEmployeeName(self):\n",
    "        return self.__employeeName\n",
    "    \n",
    "    def getEmployeeAge(self):\n",
    "        return self.__employeeAge \n",
    "    \n",
    "    def getEmployeeSalary(self):\n",
    "        return self.__employeeSalary    \n",
    "    \n",
    "    ## toSring method\n",
    "    def __str__(self):\n",
    "        output = \"\"\n",
    "        output += \"[Employee Info] \"\n",
    "        output += \"name: \" + self.__employeeName\n",
    "        output += \", age: \" + str(self.__employeeAge)\n",
    "        output += \", salary: \" + str(self.__employeeSalary)\n",
    "        \n",
    "        return output\n",
    "    \n",
    "\n",
    "### END CODE"
   ]
  },
  {
   "cell_type": "code",
   "execution_count": 90,
   "metadata": {
    "collapsed": false
   },
   "outputs": [
    {
     "name": "stdout",
     "output_type": "stream",
     "text": [
      "set name: Jim\n",
      "set age: 50\n",
      "set salary: 200000\n",
      "set name: Suan\n",
      "set age: 43\n",
      "set salary: 210000\n",
      "set name: Brandon\n",
      "set age: 28\n",
      "set salary: 125000\n",
      "[Employee Info] name: Jim, age: 50, salary: 200000\n",
      "[Employee Info] name: Suan, age: 43, salary: 210000\n",
      "[Employee Info] name: Brandon, age: 28, salary: 125000\n"
     ]
    }
   ],
   "source": [
    "# declaring and initializing class objects\n",
    "ea = Employee(\"None\", 0, 0.0)\n",
    "eb = Employee(\"None\", 0, 0.0)\n",
    "ec = Employee(\"None\", 0, 0.0)\n",
    "\n",
    "# declaring and initializing list with class objects\n",
    "employeeList = [ea, eb, ec]\n",
    "\n",
    "# for-loop to set data attribute's values\n",
    "for i in range(len(employeeList)):\n",
    "    \n",
    "    name = raw_input(\"set name: \")\n",
    "    employeeList[i].setEmployeeName(name)\n",
    "    \n",
    "    age = raw_input(\"set age: \")\n",
    "    employeeList[i].setEmployeeAge(age)\n",
    "    \n",
    "    salary = raw_input(\"set salary: \")\n",
    "    employeeList[i].setEmployeeSalary(salary)\n",
    "    \n",
    "# for-loop to print out objects in employeeList\n",
    "for i in range(len(employeeList)):    \n",
    "    print employeeList[i]"
   ]
  },
  {
   "cell_type": "markdown",
   "metadata": {},
   "source": [
    "#### Exercise 5 -  Creating a Python calculator class\n",
    "\n",
    "Create a Python class called Calculator. \n",
    "\n",
    "The class has the following data members\n",
    "\n",
    "```\n",
    "1. number1 - type float\n",
    "2. number2 - type float\n",
    "```\n",
    "\n",
    "The class must have the below methods\n",
    "\n",
    "```\n",
    "1. add - adds two numbers and returns the result\n",
    "2. subtract - subtracts the first number from the second number and returns the result\n",
    "3. multiply - multiply two numbers and returns the result\n",
    "4. divide - divide the first number by the second number and returns the result\n",
    "5. __init__ - accepts two numbers and uses those numbers to initialize number1 and number2 respectively\n",
    "```\n",
    "\n",
    "Create an object of the Calculator class. Initialize it with any two arbitrary numbers. Invoke the methods add, subtract, multiple and divide and display the result\n",
    "\n",
    "\n"
   ]
  },
  {
   "cell_type": "code",
   "execution_count": 96,
   "metadata": {
    "collapsed": false
   },
   "outputs": [
    {
     "ename": "AttributeError",
     "evalue": "'Calculator' object has no attribute 'add'",
     "output_type": "error",
     "traceback": [
      "\u001b[0;31m---------------------------------------------------------------------------\u001b[0m",
      "\u001b[0;31mAttributeError\u001b[0m                            Traceback (most recent call last)",
      "\u001b[0;32m<ipython-input-96-1bda9d3fdf2d>\u001b[0m in \u001b[0;36m<module>\u001b[0;34m()\u001b[0m\n\u001b[1;32m     12\u001b[0m \u001b[0;34m\u001b[0m\u001b[0m\n\u001b[1;32m     13\u001b[0m \u001b[0ma\u001b[0m \u001b[0;34m=\u001b[0m \u001b[0mCalculator\u001b[0m\u001b[0;34m(\u001b[0m\u001b[0;36m2\u001b[0m\u001b[0;34m,\u001b[0m \u001b[0;36m3\u001b[0m\u001b[0;34m)\u001b[0m\u001b[0;34m\u001b[0m\u001b[0m\n\u001b[0;32m---> 14\u001b[0;31m \u001b[0;32mprint\u001b[0m \u001b[0ma\u001b[0m\u001b[0;34m.\u001b[0m\u001b[0madd\u001b[0m\u001b[0;34m(\u001b[0m\u001b[0;34m)\u001b[0m\u001b[0;34m\u001b[0m\u001b[0m\n\u001b[0m\u001b[1;32m     15\u001b[0m \u001b[0;34m\u001b[0m\u001b[0m\n\u001b[1;32m     16\u001b[0m \u001b[0;34m\u001b[0m\u001b[0m\n",
      "\u001b[0;31mAttributeError\u001b[0m: 'Calculator' object has no attribute 'add'"
     ]
    }
   ],
   "source": [
    "### YOUR CODE GOES \n",
    "\n",
    "# Calculator-class\n",
    "class Calculator(object):\n",
    "    ## Data Attributes Initialization\n",
    "    def __init__(self, num1, num2):\n",
    "        self.num1 = num1\n",
    "        self.num2 = num2\n",
    "        \n",
    "    def __add__(self, num1, num2):\n",
    "        return num1 + num2\n",
    "    \n",
    "a = Calculator(2.0, 3.5)\n",
    "print a.add()\n",
    "    \n",
    "        \n",
    "\n",
    "### END CODE"
   ]
  },
  {
   "cell_type": "code",
   "execution_count": null,
   "metadata": {
    "collapsed": true
   },
   "outputs": [],
   "source": []
  }
 ],
 "metadata": {
  "kernelspec": {
   "display_name": "Python 2",
   "language": "python",
   "name": "python2"
  },
  "language_info": {
   "codemirror_mode": {
    "name": "ipython",
    "version": 2
   },
   "file_extension": ".py",
   "mimetype": "text/x-python",
   "name": "python",
   "nbconvert_exporter": "python",
   "pygments_lexer": "ipython2",
   "version": "2.7.11"
  }
 },
 "nbformat": 4,
 "nbformat_minor": 2
}
